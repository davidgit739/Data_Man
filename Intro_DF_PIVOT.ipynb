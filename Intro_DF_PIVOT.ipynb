{
 "cells": [
  {
   "cell_type": "code",
   "execution_count": null,
   "id": "bbb7dea5",
   "metadata": {},
   "outputs": [],
   "source": [
    "dogs.pivot_table(values=\"weight_kg\" , index=\"color\")\n",
    "#values column is the column you want to summarise and \n",
    "#the index column is the column you want to group by \n",
    "#by default pivot_table takes the mean value\n",
    "#if we want something else, pass the aggfunc=np.median to change it from mean\n",
    "dogs.pivot_table(values=\"weight_kg\", index=\"color\", aggfunc=np.median)\n",
    "#to get more than one summary statistic add a list to the aggfunc argument\n",
    "dogs.pivot_table(values=\"weight_kg\", index=\"color\", aggfunc=[np.mean, np.median])\n",
    "\n",
    "#pivot on two variables\n",
    "dogs.groupby([\"color\", \"breed\"])[\"weight_kg\"].mean()\n",
    "\n",
    "dogs.pivot_table(values=\"weight_kg\", index=\"color\", columns=\"breed\")\n",
    "#missing values can be filled to a specific value\n",
    "dogs.pivot_table(values=\"weight_kg\", index=\"color\", columns=\"breed\", fill_value=0)\n",
    "#summary column\n",
    "dogs.pivot_table(values=\"weight_kg\", index=\"color\", columns=\"breed\", fill_value=0, margins=True)\n"
   ]
  },
  {
   "cell_type": "code",
   "execution_count": null,
   "id": "11526104",
   "metadata": {},
   "outputs": [],
   "source": [
    "#Explicit Indexes\n",
    "#Data Frames are composed of 3 parts. np array for data and two indexes to store row and column details"
   ]
  },
  {
   "cell_type": "code",
   "execution_count": null,
   "id": "50e316aa",
   "metadata": {},
   "outputs": [],
   "source": [
    "dogs.columns \n",
    "dogs.index\n",
    "#you can move a column from the body of the data frame to the index\n",
    "dogs_ind = dogs.set_index(\"name\")\n",
    "#to un do you can reset the index\n",
    "dogs_ind.reset_index()\n",
    "#you can discard an index using drop \n",
    "dogs_ind.reset_index(drop=True)\n",
    "#indexes makes subsetting code cleaner \n",
    "\n",
    "dogs[dogs[\"name\"]isin([\"Bella\",\"Stella\"])]\n",
    "#if the names are in the index e can get the same result as above using the following\n",
    "dogs_ind.loc[[\"Bella\", \"Stella\"]]\n",
    "#loc filters index values\n",
    "\n",
    "dogs_ind2 = dogs.set_index(\"breed\")\n",
    "print(dogs_ind2)\n",
    "#if you then subset using loc even if multiple same values you will get all the data back \n",
    "#multilevel indexes\n",
    "\n",
    "dogs_ind3 = dogs.set_index([\"breed\", \"color\"])\n",
    "print(dogs_ind3)\n",
    "\n",
    "dogs_ind3.loc[[\"labrador\",\"Chihuahua\"]]\n",
    "\n",
    "#you can subset for more than one condition \n",
    "dogs_ind3.loc[[(\"Labrador\", \"Brown\"), (\"Chihuahua\", \"Tan\")]]\n",
    "#black labrador would not get returned using the above \n",
    "\n",
    "dogs_ind3.sort_index() #from outer to inner by asc order\n",
    "#you use the below to chnage the sorting method \n",
    "dogs_ind3.sort_index(level=[\"color\", \"breed\"], ascending=[True, False])\n",
    "\n",
    "#two syntaxes required \n"
   ]
  }
 ],
 "metadata": {
  "kernelspec": {
   "display_name": "Python 3",
   "language": "python",
   "name": "python3"
  },
  "language_info": {
   "codemirror_mode": {
    "name": "ipython",
    "version": 3
   },
   "file_extension": ".py",
   "mimetype": "text/x-python",
   "name": "python",
   "nbconvert_exporter": "python",
   "pygments_lexer": "ipython3",
   "version": "3.8.8"
  }
 },
 "nbformat": 4,
 "nbformat_minor": 5
}
